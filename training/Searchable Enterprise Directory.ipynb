{
 "cells": [
  {
   "cell_type": "code",
   "execution_count": 1,
   "id": "3f2f469a",
   "metadata": {},
   "outputs": [],
   "source": [
    "!pip install -q pandas scikit-learn numpy matplotlib seaborn"
   ]
  },
  {
   "cell_type": "code",
   "execution_count": 2,
   "id": "f36f92ad",
   "metadata": {},
   "outputs": [
    {
     "name": "stdout",
     "output_type": "stream",
     "text": [
      "Mean Squared Error: 134373080.8989232\n"
     ]
    }
   ],
   "source": [
    "import pandas as pd\n",
    "from sklearn.linear_model import LinearRegression\n",
    "from sklearn.preprocessing import OneHotEncoder\n",
    "from sklearn.compose import ColumnTransformer\n",
    "from sklearn.model_selection import train_test_split\n",
    "from sklearn.metrics import mean_squared_error\n",
    "\n",
    "# Sample data\n",
    "# data = {\n",
    "#     'JobRole': ['Software Engineer', 'Data Scientist', 'Product Manager', 'Software Engineer', 'Product Manager'],\n",
    "#     'Location': ['San Francisco', 'New York', 'San Francisco', 'New York', 'Seattle'],\n",
    "#     'Salary': [100000, 120000, 110000, 95000, 105000]\n",
    "# }\n",
    "\n",
    "data = pd.read_csv('employee_data.csv') # load data\n",
    "\n",
    "# Create a DataFrame\n",
    "df = pd.DataFrame(data)\n",
    "\n",
    "# Separate features and target variable\n",
    "X = df[['job_title', 'work_location']]\n",
    "y = df['salary']\n",
    "\n",
    "# Perform one-hot encoding for categorical variables\n",
    "column_transformer = ColumnTransformer(\n",
    "    [('encoder', OneHotEncoder(handle_unknown='ignore'), [0, 1])],\n",
    "    remainder='passthrough'\n",
    ")\n",
    "X_encoded = column_transformer.fit_transform(X)\n",
    "\n",
    "# Split the data into training and testing sets\n",
    "X_train, X_test, y_train, y_test = train_test_split(X_encoded, y, test_size=0.2, random_state=42)\n",
    "\n",
    "# Train a Linear Regression model\n",
    "model = LinearRegression()\n",
    "model.fit(X_train, y_train)\n",
    "\n",
    "# Make predictions on the test set\n",
    "y_pred = model.predict(X_test)\n",
    "\n",
    "# Evaluate the model\n",
    "mse = mean_squared_error(y_test, y_pred)\n",
    "print(\"Mean Squared Error:\", mse)\n"
   ]
  },
  {
   "cell_type": "code",
   "execution_count": 3,
   "id": "b8d0f2fb",
   "metadata": {},
   "outputs": [
    {
     "name": "stdout",
     "output_type": "stream",
     "text": [
      "Encoded Features:\n",
      " <Compressed Sparse Row sparse matrix of dtype 'float64'\n",
      "\twith 5 stored elements and shape (5, 8)>\n",
      "  Coords\tValues\n",
      "  (0, 3)\t1.0\n",
      "  (1, 0)\t1.0\n",
      "  (1, 6)\t1.0\n",
      "  (3, 3)\t1.0\n",
      "  (3, 6)\t1.0\n",
      "[ 95823.70163446 105923.87977382  88663.16630742  96177.20137976\n",
      "  88663.16630742]\n"
     ]
    }
   ],
   "source": [
    "# Use the same column names as in your main dataset\n",
    "data = {\n",
    "    'job_title': ['Software Engineer', 'Data Scientist', 'Product Manager', 'Software Engineer', 'Product Manager'],\n",
    "    'work_location': ['San Francisco', 'New York', 'San Francisco', 'New York', 'Seattle']\n",
    "}\n",
    "df = pd.DataFrame(data)\n",
    "\n",
    "# Use the same column_transformer as used during training\n",
    "X = df[['job_title', 'work_location']]\n",
    "X_encoded = column_transformer.transform(X)\n",
    "\n",
    "print(\"Encoded Features:\\n\", X_encoded)\n",
    "\n",
    "predictions = model.predict(X_encoded)\n",
    "\n",
    "print(predictions)"
   ]
  }
 ],
 "metadata": {
  "kernelspec": {
   "display_name": ".venv",
   "language": "python",
   "name": "python3"
  },
  "language_info": {
   "codemirror_mode": {
    "name": "ipython",
    "version": 3
   },
   "file_extension": ".py",
   "mimetype": "text/x-python",
   "name": "python",
   "nbconvert_exporter": "python",
   "pygments_lexer": "ipython3",
   "version": "3.13.5"
  }
 },
 "nbformat": 4,
 "nbformat_minor": 5
}
